{
 "cells": [
  {
   "cell_type": "code",
   "execution_count": 11,
   "metadata": {
    "dotnet_interactive": {
     "language": "csharp"
    },
    "polyglot_notebook": {
     "kernelName": "csharp"
    }
   },
   "outputs": [],
   "source": [
    "from datos import obtenerCapacitancia, obtenerFrecuencia, obtenerInductancia, obtenerResistencias, obtenerVoltaje\n",
    "import math\n",
    "import matplotlib.pyplot as plt\n",
    "import matplotlib.patches as patches\n",
    "\n",
    "\n"
   ]
  },
  {
   "cell_type": "code",
   "execution_count": 185,
   "metadata": {},
   "outputs": [
    {
     "data": {
      "image/png": "[encoded data removed]",
      "text/plain": [
       "<Figure size 640x480 with 1 Axes>"
      ]
     },
     "metadata": {},
     "output_type": "display_data"
    }
   ],
   "source": [
    "import matplotlib.pyplot as plt\n",
    "import numpy as np\n",
    "import matplotlib.patches as patches\n",
    "\n",
    "fig, ax = plt.subplots()\n",
    "voltaje=220\n",
    "resistencias=[4,5,8,7,10]\n",
    "serie=True\n",
    "rlc=True\n",
    "XL=0.4\n",
    "XC=0.3\n",
    "\n",
    "componentes = resistencias\n",
    "if rlc:\n",
    "    resistenciaTotal = suma_Resistencia(resistencias, serie)\n",
    "    componentes = [resistenciaTotal, XL, XC]\n",
    "    nombres = ['R', 'RL', 'RC']\n",
    "else:\n",
    "    nombres = ['R' + str(i + 1) for i in range(len(resistencias))]\n",
    "\n",
    "if serie:\n",
    "    num_componentes = len(componentes)\n",
    "    tercio = num_componentes // 3\n",
    "    resto = num_componentes % 3\n",
    "\n",
    "    # Línea superior\n",
    "    for i, (comp, nombre) in enumerate(zip(componentes[:tercio], nombres[:tercio])):\n",
    "        ax.plot([i / (tercio + 1), (i + 1) / (tercio + 1)], [1, 1], 'k-')\n",
    "        ax.text((i + 0.5) / (tercio + 1), 1.05, nombre + '\\n' + f'{comp:.2f} Ω', ha='center')\n",
    "        #Rayita\n",
    "        am=((i + 0.5) / (tercio + 1))\n",
    "        x = np.array([am-0.08,am-0.06,am-0.04,am-0.02,am,am+0.02,am+0.04,am+0.06,am+0.08])\n",
    "        y = np.array([1, 1.03,1,0.97,1, 1.03,1,0.97,1])\n",
    "        ax.plot(x, y, 'k-')  # Alambre\n",
    "\n",
    "    # Línea derecha\n",
    "    for i, (comp, nombre) in enumerate(zip(componentes[tercio:2*tercio], nombres[tercio:2*tercio])):\n",
    "        ax.plot([1, 1], [1 - (i + 1) / (tercio + 1), 1 - i / (tercio + 1)], 'k-')\n",
    "        ax.text(1.05, 1 - (i + 0.5) / (tercio + 1), nombre + '\\n' + f'{comp:.2f} Ω', va='center')\n",
    "        #alambre\n",
    "        am=(1 - (i+0.5) / (tercio + 1))\n",
    "        x = np.array([1, 1.03,1,0.97,1, 1.03,1,0.97,1])\n",
    "        y= np.array([am-0.08,am-0.06,am-0.04,am-0.02,am,am+0.02,am+0.04,am+0.06,am+0.08])\n",
    "        ax.plot(x, y, 'k-') \n",
    "\n",
    "\n",
    "\n",
    "    # Línea inferior\n",
    "    for i, (comp, nombre) in enumerate(zip(componentes[2*tercio:], nombres[2*tercio:])):\n",
    "        ax.plot([1 - i / (tercio + resto), 1 - (i + 1) / (tercio + resto)], [0, 0], 'k-')\n",
    "        ax.text(1 - (i + 0.5) / (tercio + resto), -0.05, nombre + '\\n' + f'{comp:.2f} Ω', ha='center', va='top')\n",
    "        #alambre\n",
    "        am=((1 - (i+0.5) / (tercio + resto)))\n",
    "        x= np.array([am-0.08,am-0.06,am-0.04,am-0.02,am,am+0.02,am+0.04,am+0.06,am+0.08])\n",
    "        y = np.array([0,0.03,0,-0.03,0, 0.03,0,-0.03,0])\n",
    "        ax.plot(x, y, 'k-')  # Alambre\n",
    "        \n",
    "        \n",
    "        \n",
    "        \n",
    "        \n",
    "else:  # Paralelo\n",
    "    num_componentes = len(componentes)\n",
    "    for i, (comp, nombre) in enumerate(zip(componentes, nombres)):\n",
    "        y_pos = 1 - i / (num_componentes - 1) if num_componentes > 1 else 0.5\n",
    "        ax.plot([0, 1], [y_pos, y_pos], 'k-')\n",
    "        ax.text(0.5, y_pos+0.08, nombre + '\\n' + f'{comp:.2f} Ω', ha='center', va='center')\n",
    "        #alambre\n",
    "        y= np.array([y_pos,y_pos+0.03,y_pos,y_pos-0.03,y_pos,y_pos+0.03,y_pos,y_pos-0.03,y_pos])\n",
    "        x = np.array([0.42,0.44,0.46,0.48,0.5, 0.52,0.54,0.56,0.58])\n",
    "        ax.plot(x, y, 'k-')\n",
    "        \n",
    "        \n",
    "        \n",
    "        \n",
    "ax.plot([0, 0], [0, 1], 'k-')  # Línea izquierda\n",
    "ax.plot([0, 1], [1, 1], 'k-')  # Línea superior\n",
    "ax.plot([1, 1], [1, 0], 'k-')  # Línea derecha\n",
    "ax.plot([1, 0], [0, 0], 'k-')  # Línea inferior\n",
    "\n",
    "ax.text(-0.1, 0.5, f'{voltaje:.2f} V', va='center', ha='center', fontsize=12, bbox=dict(facecolor='white', edgecolor='black'))\n",
    "\n",
    "ax.set_xlim(-0.2, 1.2)\n",
    "ax.set_ylim(-0.2, 1.2)\n",
    "ax.axis('off')\n",
    "plt.title('Esquema del Circuito')\n",
    "plt.show()\n"
   ]
  }
 ],
 "metadata": {
  "kernelspec": {
   "display_name": "Python 3",
   "language": "python",
   "name": "python3"
  },
  "language_info": {
   "codemirror_mode": {
    "name": "ipython",
    "version": 3
   },
   "file_extension": ".py",
   "mimetype": "text/x-python",
   "name": "python",
   "nbconvert_exporter": "python",
   "pygments_lexer": "ipython3",
   "version": "3.11.8"
  },
  "polyglot_notebook": {
   "kernelInfo": {
    "defaultKernelName": "csharp",
    "items": [
     {
      "aliases": [],
      "name": "csharp"
     }
    ]
   }
  }
 },
 "nbformat": 4,
 "nbformat_minor": 2
}
