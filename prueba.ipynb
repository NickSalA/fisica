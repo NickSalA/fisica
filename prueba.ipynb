{
 "cells": [
  {
   "cell_type": "code",
   "execution_count": 11,
   "metadata": {
    "dotnet_interactive": {
     "language": "csharp"
    },
    "polyglot_notebook": {
     "kernelName": "csharp"
    }
   },
   "outputs": [],
   "source": [
    "from datos import obtenerCapacitancia, obtenerFrecuencia, obtenerInductancia, obtenerResistencias, obtenerVoltaje\n",
    "import math\n",
    "import matplotlib.pyplot as plt\n",
    "import matplotlib.patches as patches\n",
    "\n",
    "\n"
   ]
  },
  {
   "cell_type": "code",
   "execution_count": 48,
   "metadata": {},
   "outputs": [
    {
     "data": {
      "image/png": "[encoded data removed]",
      "text/plain": [
       "<Figure size 640x480 with 1 Axes>"
      ]
     },
     "metadata": {},
     "output_type": "display_data"
    }
   ],
   "source": [
    "fig, ax = plt.subplots()\n",
    "voltaje=220\n",
    "resistencias=[4,5,6,7,8]\n",
    "serie=True\n",
    "rlc=False\n",
    "XL=None\n",
    "XC=None\n",
    "   \n",
    "\n",
    "componentes = resistencias\n",
    "if rlc:\n",
    "    resistenciaTotal = suma_Resistencia(resistencias, serie)\n",
    "    componentes = [resistenciaTotal, XL, XC]\n",
    "    nombres = ['R', 'RL', 'RC']\n",
    "else:\n",
    "    nombres = ['R' + str(i + 1) for i in range(len(resistencias))]\n",
    "\n",
    "if serie:\n",
    "        num_componentes = len(componentes)\n",
    "        tercio = num_componentes // 3\n",
    "        resto = num_componentes % 3\n",
    "\n",
    "        # Línea superior\n",
    "        for i, (comp, nombre) in enumerate(zip(componentes[:tercio], nombres[:tercio])):\n",
    "            ax.plot([i / (tercio + 1), (i + 1) / (tercio + 1)], [1, 1], 'k-')\n",
    "            ax.text((i + 0.5) / (tercio + 1), 1.05, nombre + '\\n' + f'{comp:.2f} Ω', ha='center')\n",
    "            rect = patches.Rectangle(((i + 0.25) / (tercio + 1), 1.02), 0.5 / (tercio + 1), 0.08, linewidth=1, edgecolor='k', facecolor='none')\n",
    "            ax.add_patch(rect)\n",
    "\n",
    "        # Línea derecha\n",
    "        for i, (comp, nombre) in enumerate(zip(componentes[tercio:2*tercio], nombres[tercio:2*tercio])):\n",
    "            ax.plot([1, 1], [1 - (i + 1) / (tercio + 1), 1 - i / (tercio + 1)], 'k-')\n",
    "            ax.text(1.05, 1 - (i + 0.5) / (tercio + 1), nombre + '\\n' + f'{comp:.2f} Ω', va='center')\n",
    "            rect = patches.Rectangle((1.02, 1 - (i + 0.75) / (tercio + 1)), 0.08, 0.5 / (tercio + 1), linewidth=1, edgecolor='k', facecolor='none')\n",
    "            ax.add_patch(rect)\n",
    "\n",
    "        # Línea inferior\n",
    "        for i, (comp, nombre) in enumerate(zip(componentes[2*tercio:], nombres[2*tercio:])):\n",
    "            ax.plot([1 - i / (tercio + resto), 1 - (i + 1) / (tercio + resto)], [0, 0], 'k-')\n",
    "            ax.text(1 - (i + 0.5) / (tercio + resto), -0.05, nombre + '\\n' + f'{comp:.2f} Ω', ha='center', va='top')\n",
    "            rect = patches.Rectangle((1 - (i + 0.75) / (tercio + resto), -0.035), 0.5 / (tercio + resto), 0.08, linewidth=1, edgecolor='k', facecolor='black')\n",
    "            ax.add_patch(rect)\n",
    "\n",
    "else:  # Paralelo\n",
    "        num_componentes = len(componentes)\n",
    "        for i, (comp, nombre) in enumerate(zip(componentes, nombres)):\n",
    "            y_pos = 1 - i / (num_componentes - 1) if num_componentes > 1 else 0.5\n",
    "            ax.plot([0, 1], [y_pos, y_pos], 'k-')\n",
    "            ax.text(0.5, y_pos, nombre + '\\n' + f'{comp:.2f} Ω', ha='center', va='center')\n",
    "            rect = patches.Rectangle((0.25, y_pos - 0.075), 0.5, 0.1, linewidth=1, edgecolor='k', facecolor='red')\n",
    "            ax.add_patch(rect)\n",
    "\n",
    "ax.plot([0, 0], [0, 1], 'k-')  # Línea izquierda\n",
    "ax.plot([0, 1], [1, 1], 'k-')  # Línea superior\n",
    "ax.plot([1, 1], [1, 0], 'k-')  # Línea derecha\n",
    "ax.plot([1, 0], [0, 0], 'k-')  # Línea inferior\n",
    "    \n",
    "ax.text(-0.1, 0.5, f'{voltaje:.2f} V', va='center', ha='center', fontsize=12, bbox=dict(facecolor='white', edgecolor='black'))\n",
    "\n",
    "ax.set_xlim(-0.2, 1.2)\n",
    "ax.set_ylim(-0.2, 1.2)\n",
    "ax.axis('off')\n",
    "plt.title('Esquema del Circuito')\n",
    "plt.show()"
   ]
  }
 ],
 "metadata": {
  "kernelspec": {
   "display_name": "Python 3",
   "language": "python",
   "name": "python3"
  },
  "language_info": {
   "codemirror_mode": {
    "name": "ipython",
    "version": 3
   },
   "file_extension": ".py",
   "mimetype": "text/x-python",
   "name": "python",
   "nbconvert_exporter": "python",
   "pygments_lexer": "ipython3",
   "version": "3.11.8"
  },
  "polyglot_notebook": {
   "kernelInfo": {
    "defaultKernelName": "csharp",
    "items": [
     {
      "aliases": [],
      "name": "csharp"
     }
    ]
   }
  }
 },
 "nbformat": 4,
 "nbformat_minor": 2
}
